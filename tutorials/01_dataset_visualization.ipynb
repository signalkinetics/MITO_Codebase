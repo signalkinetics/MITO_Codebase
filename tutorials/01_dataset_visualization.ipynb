{
 "cells": [
  {
   "cell_type": "markdown",
   "metadata": {},
   "source": [
    "# Welcome to the MITO Dataset!\n",
    "\n",
    "In this tutorial, we will show:\n",
    "1. How to load mmWave images within the dataset\n",
    "2. How to visualize mmWave images\n",
    "\n",
    "***Before beginning this tutorial, please follow the installation steps listed in the README.***"
   ]
  },
  {
   "cell_type": "code",
   "execution_count": null,
   "metadata": {},
   "outputs": [],
   "source": [
    "# Import dependencies\n",
    "import sys\n",
    "sys.path.append('../src')\n",
    "from utils import utilities\n",
    "from utils.object_information import ObjectInformation, ObjectAttributes\n",
    "from utils.generic_loader import *\n",
    "from utils.visualization import *"
   ]
  },
  {
   "cell_type": "markdown",
   "metadata": {},
   "source": [
    "[//]: # (TODO: Does this belong here or elsewhere?)\n",
    "\n",
    "### Understanding the Dataset Structure\n",
    "\n",
    "Each object in our dataset contains a unique ID and name. These are the same as those defined in the YCB dataset (http://ycb-benchmarks.s3-website-us-east-1.amazonaws.com/). \n",
    "\n",
    "The data for an object is stored in a folder with the following naming convention: ```<object_id>_<object_name>```\n",
    "\n",
    "Within this folder, our dataset is structured as follows:\n",
    "\n",
    "[//]: # (ensp = 2, emsp = 4, nbsp = 1 space)\n",
    "\n",
    "data  \n",
    "&emsp;├── 001_chips_can  \n",
    "&emsp; |&emsp;&emsp;├── robot_collected  \n",
    "&emsp; |&emsp;&emsp; |&emsp;&emsp;└── 0_0_0  \n",
    "&emsp; |&emsp;&emsp; |&emsp;&emsp; &emsp;&emsp;├── exp1  \n",
    "&emsp; |&emsp;&emsp; |&emsp;&emsp; &emsp;&emsp; | &emsp;&emsp;├── los  \n",
    "&emsp; |&emsp;&emsp; |&emsp;&emsp; &emsp;&emsp; | &emsp;&emsp; |&emsp;&emsp;├── processed  \n",
    "&emsp; |&emsp;&emsp; |&emsp;&emsp; &emsp;&emsp; | &emsp;&emsp; |&emsp;&emsp; |&emsp;&emsp;├── camera&ensp;# This folder contains processed camera data such as segmentation masks  \n",
    "&emsp; |&emsp;&emsp; |&emsp;&emsp; &emsp;&emsp; | &emsp;&emsp; |&emsp;&emsp; |&emsp;&emsp;└── radars&emsp;# This folder contains processed radar images  \n",
    "&emsp; |&emsp;&emsp; |&emsp;&emsp; &emsp;&emsp; | &emsp;&emsp; |&emsp;&emsp;└── unprocessed  \n",
    "&emsp; |&emsp;&emsp; |&emsp;&emsp; &emsp;&emsp; | &emsp;&emsp; |&emsp;&emsp; &emsp;&emsp;├── camera&ensp;# This folder contains raw camera images  \n",
    "&emsp; |&emsp;&emsp; |&emsp;&emsp; &emsp;&emsp; | &emsp;&emsp; |&emsp;&emsp; &emsp;&emsp;└── radars&emsp;# This folder contains raw unprocessed radar measurements   \n",
    "&emsp; |&emsp;&emsp; |&emsp;&emsp; &emsp;&emsp; | &emsp;&emsp;└── nlos  \n",
    "&emsp; |&emsp;&emsp; |&emsp;&emsp; &emsp;&emsp; | &emsp;&emsp; &emsp;&emsp;└── ...   \n",
    "&emsp; |&emsp;&emsp; |&emsp;&emsp; &emsp;&emsp;└── exp2  \n",
    "&emsp; |&emsp;&emsp; |&emsp;&emsp; &emsp;&emsp;  &emsp;&emsp;└── ...  \n",
    "&emsp; |&emsp;&emsp;└── simulation   \n",
    "&emsp; |&emsp;&emsp; &emsp;&emsp;└── 0_0_0  \n",
    "&emsp; |&emsp;&emsp; &emsp;&emsp; &emsp;&emsp;├── processed  \n",
    "&emsp; |&emsp;&emsp; &emsp;&emsp; &emsp;&emsp; |&emsp;&emsp;└── ...  \n",
    "&emsp; |&emsp;&emsp; &emsp;&emsp; &emsp;&emsp;└── unprocessed   \n",
    "&emsp; |&emsp;&emsp; &emsp;&emsp; &emsp;&emsp;&ensp;&emsp;&emsp;└── ...  \n",
    "&emsp;├── <object_id>_<object_name>  \n",
    "&emsp;└── ..."
   ]
  },
  {
   "cell_type": "markdown",
   "metadata": {},
   "source": [
    "# Loading mmWave Images\n",
    "\n",
    "Next, we will load a sample mmWave image. To do so, our code follows 3 steps:\n",
    "1. We define the parameters of the image we want to use. For example, do we want to load a simulation or real-world image? A line-of-sight or non-line-of-sight image?\n",
    "2. We use object_information.py to load information about our requested object. For example, if we only have the name of the object, we can find the object ID with this class.\n",
    "3. We use the generic_loader.py file, which is responsible for loading/saving all files within the dataset, to load the image."
   ]
  },
  {
   "cell_type": "code",
   "execution_count": null,
   "metadata": {},
   "outputs": [],
   "source": [
    "########################\n",
    "# Step 1: Parameters to Change\n",
    "obj_id = '052' # ID of object (including leading zeros). Note: One of obj_name or obj_id can be None, and the code will fill it in below\n",
    "obj_name = 'extra_large_clamp' # Name of object. Note: One of obj_name or obj_id can be None, and the code will fill it in below\n",
    "is_sim = False # Whether to use simulation (if True) or real-world (if False) data\n",
    "is_specular_sim = False # Whether to plot specular simulation. If False, will plot edge simulation. This is ignored if is_sim is False\n",
    "is_los = True # Whether to load line-of-sight (if True) or non-line-of-sight (if False). This parameter is ignored for simlation data\n",
    "exp_num = '1' # Whether to load experiment 1 or 2. Most objects have data for both \n",
    "radar_type = '77_ghz' # Which radar type to load (either '77_ghz' or '24_ghz')\n",
    "########################\n",
    "\n",
    "# Define image_file_ext. This is the extension added to the end of the filename to ensure we are loading the correct file\n",
    "if is_sim:\n",
    "    if is_specular_sim:\n",
    "        image_file_ext = utilities.load_param_json()['processing']['specular_extension']\n",
    "    else:\n",
    "        image_file_ext = utilities.load_param_json()['processing']['edges_extension']\n",
    "else:\n",
    "    image_file_ext = utilities.load_param_json()['processing']['robot_collected_extension']\n",
    "\n",
    "# Step 2: Load necessary information about object\n",
    "# This information is loaded from the experiments.csv and objects.csv files for you\n",
    "obj_info = ObjectInformation()\n",
    "obj_id, obj_name = obj_info.fill_in_identifier_sep(obj_name, obj_id) # Fill in empty name or ID\n",
    "crop = obj_info.get_object_info(ExperimentAttributes.CROP, obj_id=obj_id, name=obj_name, exp_num=exp_num) # Whether to crop image when loading it\n",
    "crop_high = obj_info.get_object_info(ExperimentAttributes.CROP_HIGH, obj_id=obj_id, name=obj_name, exp_num=exp_num) # Whether to crop image at a higher point (due to different physical setup)\n",
    "attr = ExperimentAttributes.LOS_BACKGROUND_ID if is_los else ExperimentAttributes.NLOS_BACKGROUND_ID\n",
    "background_exp = None if is_sim or radar_type=='77_ghz' else obj_info.get_object_info(attr, obj_id=obj_id, name=obj_name, exp_num=exp_num)\n",
    "\n",
    "# Create a GenericLoader object\n",
    "loader = GenericLoader(obj_id, obj_name, is_sim=is_sim, is_los=is_los, exp_num=exp_num)\n",
    "\n",
    "# Step 3: Load the image\n",
    "image, (x_locs, y_locs, z_locs), antenna_locs = loader.load_image_file(radar_type, background_subtraction=background_exp, ext=image_file_ext, crop=crop, crop_high=crop_high)"
   ]
  },
  {
   "cell_type": "markdown",
   "metadata": {},
   "source": [
    "Next, let us better understand these image outputs. Each mmWave image file contains the following information:\n",
    "- image: This is the mmWave image, which is stored as a 3D, complex numpy array with shape (X,Y,Z). \n",
    "- locs: These define the coordinates of each voxel within the mmWave image. This will be a tuple of numpy arrays:\n",
    "    - x_locs will be the coordinates of each voxel in the x_dimension. It is a numpy array with size (X, )\n",
    "    - y_locs will be the coordinates of each voxel in the y_dimension. It is a numpy array with size (Y, )\n",
    "    - z_locs will be the coordinates of each voxel in the z_dimension. It is a numpy array with size (Z, )\n",
    "- antenna_locs: These are the locations at which the robot took each measurement to form the mmWave image. \n",
    "\n",
    "Therefore, the 3D coordinate of the image at voxel (i,j,k) would be [x_locs[i], y_locs[j], z_locs[k]]\n",
    "\n",
    "[//]: # (TODO: This would be easier to visualize with an image)\n",
    "\n",
    "For example, for this object, we can use the following code to learn more about the outputs:"
   ]
  },
  {
   "cell_type": "code",
   "execution_count": null,
   "metadata": {},
   "outputs": [],
   "source": [
    "print(f'Image shape: {image.shape}')\n",
    "print(f'x_locs shape: {x_locs.shape}')\n",
    "print(f'y_locs shape: {y_locs.shape}')\n",
    "print(f'z_locs shape: {z_locs.shape}')\n",
    "\n",
    "voxel_idx = [0, 0, 0]\n",
    "voxel_coord = [x_locs[voxel_idx[0]], y_locs[voxel_idx[1]], z_locs[voxel_idx[2]]]\n",
    "print(f'The coordinate of voxel {voxel_idx} would be {voxel_coord}')"
   ]
  },
  {
   "cell_type": "markdown",
   "metadata": {},
   "source": [
    "# Visualizing mmWave Images\n",
    "\n",
    "Finally, let us visualize a mmWave image. We will do so using the visualization.py file. \n",
    "\n",
    "To visualize the 3D, complex-valued mmWave images, our plotter:\n",
    "1. Takes the magnitude of the complex values\n",
    "2. Projects the mmWave image along a given dimension (by averaging the values). We typically project along the vertical (z) dimension."
   ]
  },
  {
   "cell_type": "code",
   "execution_count": null,
   "metadata": {},
   "outputs": [],
   "source": [
    "########################\n",
    "# Parameters to Change\n",
    "projection_dim = 2 # The dimension along which to project the image. We typically plot along the vertical=z=2 dimension\n",
    "plot_all_slices = False # By default, we show a single 2D image which is the average of all values along the projection_dim. If you set this to True, you can see the full 3D image plotted as a series of 2D images (taken as slices along the projection_dim)\n",
    "########################\n",
    "\n",
    "# Create visualizer object\n",
    "visualizer = Visualizer()\n",
    "\n",
    "# Plot the SAR image. This function will project the 3D image to 2D, and plot the absolute value\n",
    "visualizer.plot_sar_image(image, x_locs, y_locs, z_locs, plot_dim=projection_dim, normalization=None, plot_all_slices=plot_all_slices, obj_name=obj_name, title=f'2D SAR image of {obj_name}')"
   ]
  }
 ],
 "metadata": {
  "kernelspec": {
   "display_name": "Python 3",
   "language": "python",
   "name": "python3"
  },
  "language_info": {
   "codemirror_mode": {
    "name": "ipython",
    "version": 3
   },
   "file_extension": ".py",
   "mimetype": "text/x-python",
   "name": "python",
   "nbconvert_exporter": "python",
   "pygments_lexer": "ipython3",
   "version": "3.10.12"
  }
 },
 "nbformat": 4,
 "nbformat_minor": 2
}
