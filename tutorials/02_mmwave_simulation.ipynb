{
 "cells": [
  {
   "cell_type": "markdown",
   "metadata": {},
   "source": [
    "# Simulating mmWave Images\n",
    "\n",
    "In this tutorial, we will show you how to:\n",
    "1. Simulate mmWave images with from different reflection types.\n",
    "2. Combine resulting images to produce a final synthetic image.\n",
    "\n",
    "To understand our simulation in more details, please check out our paper, section 5.\n",
    "\n",
    "This tutorial assumes that you have followed the install steps in the README, and that you have downloaded sample data (using either setup.py or in Tutorial 1)."
   ]
  },
  {
   "cell_type": "code",
   "execution_count": null,
   "metadata": {},
   "outputs": [],
   "source": [
    "# Import dependencies\n",
    "import subprocess\n",
    "import sys\n",
    "import numpy as np\n",
    "sys.path.append('../src')\n",
    "from utils import utilities \n",
    "from utils.generic_loader import *\n",
    "from utils.visualization import *"
   ]
  },
  {
   "cell_type": "markdown",
   "metadata": {},
   "source": [
    "# Simulating Different Reflection Types\n",
    "\n",
    "Our simulation considers two types of reflections: specular (or mirror-like) reflections and edge reflections.\n",
    "\n",
    "We first produce two different images assuming entirely specular or entirely edge reflections. To do so, we use the `run_simulation.sh` bash script in the `src/simulation` folder. You can use the following code block to run this simulation. To change parameters of the simulation (e.g., which object to simulate, the angle to simulate, etc.), please check out the documentation in `run_simulation.sh`. \n",
    "\n",
    "***Note: This cell may take some time. You can skip this cell and use existing simulation data to learn how to visualize and combine simulation results***"
   ]
  },
  {
   "cell_type": "code",
   "execution_count": null,
   "metadata": {},
   "outputs": [],
   "source": [
    "# Call the run_simulation.sh script. \n",
    "# This may take some time. If you would just like to learn how to visualize and combine simulation results, you may skip this cell\n",
    "root_path = utilities.get_root_path() # Returns a path to the root of the repository\n",
    "subprocess.call(\"./run_simulation.sh\", cwd=f'{root_path}/src/simulation/') # The run_simulation.sh script is expected to be called from the src/simulation folder"
   ]
  },
  {
   "cell_type": "markdown",
   "metadata": {},
   "source": [
    "# Visualizing Simulation Results\n",
    "\n",
    "The above code will produce two images: one for specular reflections and one for edge reflections. First, let us visualize each of these images separately."
   ]
  },
  {
   "cell_type": "code",
   "execution_count": null,
   "metadata": {},
   "outputs": [],
   "source": [
    "########################\n",
    "# Step 1: Parameters to Change\n",
    "obj_id = '033'\n",
    "obj_name = 'spatula'\n",
    "########################\n",
    "\n",
    "# Create generic loader and visualizer objects\n",
    "loader = GenericLoader(obj_id, obj_name, is_sim=True, is_los=True, exp_num=None)\n",
    "visualizer = Visualizer()\n",
    "\n",
    "#  Load and plot the specular image\n",
    "specular_image, (x_locs, y_locs, z_locs), antenna_locs = loader.load_image_file('77_ghz', background_subtraction=None, ext=utilities.load_param_json()['processing']['specular_extension'])\n",
    "visualizer.plot_sar_image(specular_image, x_locs, y_locs, z_locs, plot_dim=2, normalization=None, plot_all_slices=False, obj_name=obj_name, title=f'Simulated Specular Image of {obj_name}')\n",
    "\n",
    "# Load and plot the edge image\n",
    "edge_image, (x_locs, y_locs, z_locs), antenna_locs = loader.load_image_file('77_ghz', background_subtraction=None, ext=utilities.load_param_json()['processing']['edges_extension'])\n",
    "visualizer.plot_sar_image(edge_image, x_locs, y_locs, z_locs, plot_dim=2, normalization=None, plot_all_slices=False, obj_name=obj_name, title=f'Simulated Edge Image of {obj_name}')"
   ]
  },
  {
   "cell_type": "markdown",
   "metadata": {},
   "source": [
    "## Combining Simulation Images\n",
    "\n",
    "Next, we can combine our two images (i.e. specular simulation and edge simulation images) to form one final synthetic image. Recall from our paper that we can do so through a weighted sum of the two images. We can combine our images with random weighting to produce different synthetic images representing objects with different material properties. The following code visualizes multiple random combinations."
   ]
  },
  {
   "cell_type": "code",
   "execution_count": null,
   "metadata": {},
   "outputs": [
    {
     "name": "stderr",
     "output_type": "stream",
     "text": [
      " 13% |#########                                                               |\r"
     ]
    }
   ],
   "source": [
    "num_images = 3 # Number of images to generate\n",
    "\n",
    "for i in range(num_images):\n",
    "    # Choose a random weighting\n",
    "    weight = np.random.uniform(0, 2) \n",
    "\n",
    "    # Combine images through weighted sum\n",
    "    combined_image = specular_image + weight * edge_image \n",
    "\n",
    "    # Visualize image\n",
    "    visualizer.plot_sar_image(combined_image, x_locs, y_locs, z_locs, plot_dim=2, normalization=None, plot_all_slices=False, obj_name=obj_name, title=f'Example {i+1}: Synthetic Image of {obj_name}')"
   ]
  }
 ],
 "metadata": {
  "kernelspec": {
   "display_name": "Python 3",
   "language": "python",
   "name": "python3"
  },
  "language_info": {
   "codemirror_mode": {
    "name": "ipython",
    "version": 3
   },
   "file_extension": ".py",
   "mimetype": "text/x-python",
   "name": "python",
   "nbconvert_exporter": "python",
   "pygments_lexer": "ipython3",
   "version": "3.10.12"
  }
 },
 "nbformat": 4,
 "nbformat_minor": 2
}
